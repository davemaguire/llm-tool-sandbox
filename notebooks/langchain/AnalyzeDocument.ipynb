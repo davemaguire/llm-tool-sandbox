{
 "cells": [
  {
   "attachments": {},
   "cell_type": "markdown",
   "metadata": {},
   "source": [
    "# Analyzing documents"
   ]
  },
  {
   "cell_type": "code",
   "execution_count": 1,
   "metadata": {},
   "outputs": [],
   "source": [
    "with open(\"../../state_of_the_union.txt\") as f:\n",
    "    state_of_the_union = f.read()"
   ]
  },
  {
   "cell_type": "markdown",
   "metadata": {},
   "source": [
    "## Summarise long document"
   ]
  },
  {
   "cell_type": "code",
   "execution_count": 3,
   "metadata": {},
   "outputs": [
    {
     "data": {
      "text/plain": [
       "6571"
      ]
     },
     "execution_count": 3,
     "metadata": {},
     "output_type": "execute_result"
    }
   ],
   "source": [
    "# count words in document\n",
    "word_count = len(state_of_the_union.split(\" \"))\n",
    "word_count"
   ]
  },
  {
   "attachments": {},
   "cell_type": "markdown",
   "metadata": {},
   "source": [
    "6.5K words. Number of tokens will be higher. This exceeds GPT 3.5's context lengths"
   ]
  },
  {
   "cell_type": "code",
   "execution_count": 6,
   "metadata": {},
   "outputs": [],
   "source": [
    "from langchain import OpenAI\n",
    "from langchain.chains.summarize import load_summarize_chain\n",
    "import os\n",
    "import yaml\n",
    "# Load the config file\n",
    "with open('../../config.yaml', 'r') as f:\n",
    "    config = yaml.safe_load(f)\n",
    "\n",
    "# Get the value of the environment variable from the config\n",
    "os.environ['OPENAI_API_KEY'] = config['OPENAI_API_KEY']\n",
    "\n",
    "llm = OpenAI(temperature=0)\n",
    "summary_chain = load_summarize_chain(llm, chain_type=\"map_reduce\")"
   ]
  },
  {
   "cell_type": "code",
   "execution_count": 7,
   "metadata": {},
   "outputs": [
    {
     "data": {
      "text/plain": [
       "\" In this speech, President Biden addresses the American people and the world, discussing the recent aggression of Russia's Vladimir Putin in Ukraine and the US response. He outlines economic sanctions and other measures taken to hold Putin accountable, and announces the US Department of Justice's task force to go after the crimes of Russian oligarchs. He also proposes a plan to fight inflation, invest in America, and create jobs, and nominates Circuit Court of Appeals Judge Ketanji Brown Jackson to the Supreme Court. He calls for the passage of laws to reduce gun violence, protect the right to vote, and secure the border, and outlines a Unity Agenda for the Nation. He is also committed to helping lower-income veterans get VA care debt-free, and to finding out the cause of the diseases of many of our troops. He is optimistic about America's future and believes that the nation can turn every crisis into an opportunity.\""
      ]
     },
     "execution_count": 7,
     "metadata": {},
     "output_type": "execute_result"
    }
   ],
   "source": [
    "from langchain.chains import AnalyzeDocumentChain\n",
    "summarize_document_chain = AnalyzeDocumentChain(combine_docs_chain=summary_chain)\n",
    "summarize_document_chain.run(state_of_the_union)"
   ]
  },
  {
   "cell_type": "code",
   "execution_count": 15,
   "metadata": {},
   "outputs": [
    {
     "data": {
      "text/plain": [
       "27482"
      ]
     },
     "execution_count": 15,
     "metadata": {},
     "output_type": "execute_result"
    }
   ],
   "source": [
    "# read webpage into a string variable - http://gutenberg.net.au/ebooks01/0100011h.html\n",
    "import requests\n",
    "\n",
    "# Send an HTTP GET request to the URL and retrieve the HTML content\n",
    "response = requests.get('http://gutenberg.net.au/ebooks01/0100011h.html')\n",
    "animal_farm = response.text\n",
    "len(animal_farm.split(\" \"))"
   ]
  },
  {
   "attachments": {},
   "cell_type": "markdown",
   "metadata": {},
   "source": [
    "Far too many tokens for the context. 27k is word count. Token count is higher."
   ]
  },
  {
   "cell_type": "code",
   "execution_count": 17,
   "metadata": {},
   "outputs": [
    {
     "data": {
      "text/plain": [
       "' In George Orwell\\'s Animal Farm, the animals of Manor Farm rebel against their human oppressors and establish a society of their own. Led by the pigs Snowball and Napoleon, the animals work together to build a windmill and increase production. However, Snowball is chased away and Napoleon takes charge. Despite hardships, the animals rebuild the windmill and increase production. Years later, the animals are still working hard and the pigs have taken on human characteristics. Napoleon makes changes to the farm, including the abolishment of the custom of addressing each other as \"Comrade\" and the burial of the boar\\'s skull, and changes the name of the farm from \"Animal Farm\" to \"The Manor Farm\".'"
      ]
     },
     "execution_count": 17,
     "metadata": {},
     "output_type": "execute_result"
    }
   ],
   "source": [
    "summarize_document_chain.run(animal_farm)"
   ]
  },
  {
   "attachments": {},
   "cell_type": "markdown",
   "metadata": {},
   "source": [
    "## QA Chain"
   ]
  },
  {
   "cell_type": "code",
   "execution_count": 20,
   "metadata": {},
   "outputs": [
    {
     "data": {
      "text/plain": [
       "' None. This text does not provide any information about what Napolean represents in the story.'"
      ]
     },
     "execution_count": 20,
     "metadata": {},
     "output_type": "execute_result"
    }
   ],
   "source": [
    "from langchain.chains.question_answering import load_qa_chain\n",
    "qa_chain = load_qa_chain(llm, chain_type=\"map_reduce\")\n",
    "qa_document_chain = AnalyzeDocumentChain(combine_docs_chain=qa_chain)\n",
    "qa_document_chain.run(input_document=animal_farm, question=\"What does Napolean represent in the story?\")"
   ]
  },
  {
   "attachments": {},
   "cell_type": "markdown",
   "metadata": {},
   "source": [
    "This question cannot by answered by the AnalyzeDocumentChain. Perhaps the question is too open ended."
   ]
  },
  {
   "cell_type": "code",
   "execution_count": 21,
   "metadata": {},
   "outputs": [
    {
     "data": {
      "text/plain": [
       "' Napoleon is a pig.'"
      ]
     },
     "execution_count": 21,
     "metadata": {},
     "output_type": "execute_result"
    }
   ],
   "source": [
    "qa_document_chain.run(input_document=animal_farm, question=\"What kind of animal is Napolean?\")"
   ]
  },
  {
   "attachments": {},
   "cell_type": "markdown",
   "metadata": {},
   "source": [
    "Very literal question. Correct answer"
   ]
  },
  {
   "cell_type": "code",
   "execution_count": 22,
   "metadata": {},
   "outputs": [
    {
     "data": {
      "text/plain": [
       "' Napoleon and Snowball both advocated for the building of the windmill and both had the common goal of keeping the pigs in good health and reserving the milk and apples for the pigs alone, and both had their reputations tarnished by false rumors and stories.'"
      ]
     },
     "execution_count": 22,
     "metadata": {},
     "output_type": "execute_result"
    }
   ],
   "source": [
    "qa_document_chain.run(input_document=animal_farm, question=\"What do Napolean and Snowball have in common?\")"
   ]
  },
  {
   "cell_type": "code",
   "execution_count": 23,
   "metadata": {},
   "outputs": [
    {
     "data": {
      "text/plain": [
       "' Napoleon and Snowball differ in that Snowball wanted to keep the resolution of never having any dealings with human beings, never engaging in trade, while Napolean was willing to make deals with human beings and use money. Napoleon also wanted to take full control of the farm and was willing to use force to do so, while Snowball wanted to keep the Meetings and allow the animals to have a say in the running of the farm. Napoleon had abolished the custom of addressing one another as \"Comrade\" and the custom of marching past a boar\\'s skull every Sunday morning. He had also changed the flag from one with a white hoof and horn to a plain green flag. Snowball had not done any of these things.'"
      ]
     },
     "execution_count": 23,
     "metadata": {},
     "output_type": "execute_result"
    }
   ],
   "source": [
    "qa_document_chain.run(input_document=animal_farm, question=\"How do Napolean and Snowball differ?\")"
   ]
  },
  {
   "cell_type": "code",
   "execution_count": 24,
   "metadata": {},
   "outputs": [
    {
     "data": {
      "text/plain": [
       "' None of the text is relevant to answer the question.'"
      ]
     },
     "execution_count": 24,
     "metadata": {},
     "output_type": "execute_result"
    }
   ],
   "source": [
    "qa_document_chain.run(input_document=animal_farm, question=\"Which animal was the happiest in the end?\")"
   ]
  },
  {
   "attachments": {},
   "cell_type": "markdown",
   "metadata": {},
   "source": [
    "It appears that this langauge chain is good at answering question about concrete entities and characters in the story. It fails to answer open ended questions."
   ]
  }
 ],
 "metadata": {
  "kernelspec": {
   "display_name": "llm-tool-sandbox-O45YYzTu-py3.10",
   "language": "python",
   "name": "python3"
  },
  "language_info": {
   "codemirror_mode": {
    "name": "ipython",
    "version": 3
   },
   "file_extension": ".py",
   "mimetype": "text/x-python",
   "name": "python",
   "nbconvert_exporter": "python",
   "pygments_lexer": "ipython3",
   "version": "3.10.10"
  },
  "orig_nbformat": 4
 },
 "nbformat": 4,
 "nbformat_minor": 2
}
